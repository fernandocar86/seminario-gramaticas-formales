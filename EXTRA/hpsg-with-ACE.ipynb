{
 "cells": [
  {
   "cell_type": "markdown",
   "metadata": {},
   "source": [
    "# Implementación de HPSG\n",
    "\n",
    "Para ver la documentación de ACE ir a [https://pydelphin.readthedocs.io/en/latest/api/delphin.ace.html](https://pydelphin.readthedocs.io/en/latest/api/delphin.ace.html).\n",
    "\n",
    "Ace utiliza como base una gramática que utiliza el formalismo de HPSG. Al correr el parser devuelve como resultado una matriz de atribución de valores que refleja la MRS o *Minimal Recursion semantics*. \n",
    "\n",
    "Para poder correr esta jupyter es necesario primero descargarse a este mismo directorio el archivo ace.zip, que está en la carpeta compartida del seminario, en la carpeta \"Paquetes o recursos complementarios\". Una vez descargado, descomprimirlo."
   ]
  },
  {
   "cell_type": "markdown",
   "metadata": {},
   "source": [
    "## Paquetes requeridos"
   ]
  },
  {
   "cell_type": "code",
   "execution_count": null,
   "metadata": {},
   "outputs": [],
   "source": [
    "from delphin import ace\n",
    "import re\n",
    "import os  \n",
    "import platform                                                                                     \n",
    "import subprocess\n",
    "from delphin import tdl"
   ]
  },
  {
   "cell_type": "markdown",
   "metadata": {},
   "source": [
    "## Consultar léxico de ACE"
   ]
  },
  {
   "cell_type": "code",
   "execution_count": null,
   "metadata": {},
   "outputs": [],
   "source": [
    "lex = {}\n",
    "for event, obj, lineno in tdl.iterparse('ace/trunk/lexicon.tdl'):\n",
    "    if event == 'TypeDefinition':\n",
    "        lex[obj.identifier] = obj\n",
    "print(len(lex))"
   ]
  },
  {
   "cell_type": "code",
   "execution_count": null,
   "metadata": {},
   "outputs": [],
   "source": [
    "entrance = '2001_a_space_odyssey_n1'\n",
    "print(lex[entrance])\n",
    "print(lex[entrance].supertypes)\n",
    "print(lex[entrance].features())\n",
    "print(tdl.format(lex[entrance]))"
   ]
  },
  {
   "cell_type": "markdown",
   "metadata": {},
   "source": [
    "## Parser de ACE"
   ]
  },
  {
   "cell_type": "code",
   "execution_count": null,
   "metadata": {},
   "outputs": [],
   "source": [
    "ace.compile('ace/trunk/ace/config.tdl', 'ace/grammar.dat',executable=\"ace/ace/ace\")\n",
    "ace.parse(grm='ace/grammar.dat', datum='The cat is under the table', executable=\"ace/ace/ace\")"
   ]
  },
  {
   "cell_type": "code",
   "execution_count": null,
   "metadata": {},
   "outputs": [],
   "source": [
    "sentence = 'Every dog bites a person in his arm'\n",
    "with ace.ACEParser(grm='ace/grammar.dat', executable=\"ace/ace/ace\") as parser:\n",
    "    response = parser.interact(sentence)\n",
    "    mrs = response.result(0)['mrs']\n",
    "    tree = response.result(0)['tree']\n",
    "    print(mrs)\n",
    "    print(tree)\n",
    "    "
   ]
  },
  {
   "cell_type": "code",
   "execution_count": null,
   "metadata": {},
   "outputs": [],
   "source": [
    "# Este código convierte el mrs en un código de latex para convertirlo en una avm. \n",
    "# Hay que tener latex instalado.\n",
    "# Una vez convertido, en linux (chequeado) y windows (no chequeado) abre el pdf.\n",
    "# Para otros sistemas operativos hay que tunear el código o abrir manualmente.\n",
    "\n",
    "mrs = re.sub(r'\\]', r'\\\\]', mrs) # Agrega \\ adelante de ]\n",
    "mrs = re.sub(r'\\[', '\\\\[', mrs) # Agrega \\ adelante de [\n",
    "mrs = re.sub(r'\\<', '\\\\<', mrs) # Agrega \\ adelante de <\n",
    "mrs = re.sub(r'\\>', '\\\\>', mrs) # Agrega \\ adelante de >\n",
    "mrs = re.sub(r'_', '\\\\_', mrs) # Agrega \\ adelante de _\n",
    "mrs = re.sub(r'([a-z]\\d+)', r'\\@{\\1}', mrs) # Agrega \"\\@{\" adelante y \"}\" atrás de cada secuencia \"[a-z]\\d+\"\n",
    "mrs = re.sub(r'([A-Z]+)', r'\\\\\\\\\\1', mrs) # Agrega \\\\ delante de todas las secuencias de mayúsculas (esto hay que restringirlo para que sea solo en los casos en que no hay un [ antes)\n",
    "#print(mrs)\n",
    "with open('avm.tex', 'w', encoding='utf-8') as f:\n",
    "    line1 = '\\\\documentclass[a4paper, 12pt]{article}\\\\usepackage[paperheight=30cm, paperwidth=50cm, tmargin=0.5cm, bmargin=0.5cm, lmargin=0.5cm, rmargin=0.5cm]{geometry}\\\\usepackage[utf8]{inputenc}\\\\usepackage[T1]{fontenc}\\\\usepackage[spanish]{babel}\\\\usepackage[normalem]{ulem}\\\\usepackage{lmodern}\\\\usepackage{graphicx, avm}\\\\begin{document}\\\\resizebox{48cm}{!}{\\\\begin{avm}'\n",
    "    line3 = '\\\\end{avm}}\\\\end{document}'\n",
    "    f.write(line1)\n",
    "    f.write(mrs)\n",
    "    f.write(line3)\n",
    "    f.close()\n",
    "subprocess.run(['pdflatex', '-interaction=nonstopmode', 'avm.tex'])\n",
    "os.remove(\"avm.log\")\n",
    "os.remove('avm.aux')\n",
    "if platform.system().lower() == 'windows':\n",
    "    os.startfile('avm.pdf')\n",
    "elif platform.system().lower() == 'linux':\n",
    "    subprocess.run(['xdg-open', 'avm.pdf'])\n",
    "else:\n",
    "    raise RuntimeError('Unknown operating system \"{}\"'.format(platform.system()))"
   ]
  },
  {
   "cell_type": "code",
   "execution_count": null,
   "metadata": {},
   "outputs": [],
   "source": [
    "# Este código convierte el tree en un código de latex para convertirlo en una avm. \n",
    "# Hay que tener latex instalado.\n",
    "# Una vez convertido, en linux (chequeado) y windows (no chequeado) abre el pdf.\n",
    "# Para otros sistemas operativos hay que tunear el código o abrir manualmente.\n",
    "\n",
    "tree = re.sub(r'\\(', r'[', tree) # Reemplaza \"(\" por \"[\"\n",
    "tree = re.sub(r'\\)', r' ]', tree) # Reemplaza \")\" por \" ]\"\n",
    "tree = re.sub(r'\\\"([A-Z]+)\\\"', r'.\\1', tree) # Agrega punto antes de los no terminales\n",
    "tree = re.sub(r'\\\"([a-z]+)\\\"', r' \\1', tree) # Agrega espacio antes de los terminales y les saca las comillas\n",
    "print(tree)\n",
    "with open('tree.tex', 'w', encoding='utf-8') as f:\n",
    "    line1 = '\\\\documentclass[a4paper, 12pt]{article}\\\\usepackage[paperheight=50cm, paperwidth=50cm, tmargin=0.5cm, bmargin=0.5cm, lmargin=0.5cm, rmargin=0.5cm]{geometry}\\\\usepackage[utf8]{inputenc}\\\\usepackage[T1]{fontenc}\\\\usepackage[spanish]{babel}\\\\usepackage[normalem]{ulem}\\\\usepackage{lmodern,graphicx,qtree}\\\\begin{document}\\\\resizebox{48cm}{48}{\\\\Tree '\n",
    "    line3 = '}\\\\end{document}'\n",
    "    f.write(line1)\n",
    "    f.write(tree)\n",
    "    f.write(line3)\n",
    "    f.close()\n",
    "subprocess.run(['pdflatex', '-interaction=nonstopmode', 'tree.tex'])\n",
    "os.remove(\"tree.log\")\n",
    "os.remove('tree.aux')\n",
    "if platform.system().lower() == 'windows':\n",
    "    os.startfile('tree.pdf')\n",
    "elif platform.system().lower() == 'linux':\n",
    "    subprocess.run(['xdg-open', 'tree.pdf'])\n",
    "else:\n",
    "    raise RuntimeError('Unknown operating system \"{}\"'.format(platform.system()))"
   ]
  },
  {
   "cell_type": "code",
   "execution_count": null,
   "metadata": {},
   "outputs": [],
   "source": []
  }
 ],
 "metadata": {
  "kernelspec": {
   "display_name": "Python 3",
   "language": "python",
   "name": "python3"
  },
  "language_info": {
   "codemirror_mode": {
    "name": "ipython",
    "version": 3
   },
   "file_extension": ".py",
   "mimetype": "text/x-python",
   "name": "python",
   "nbconvert_exporter": "python",
   "pygments_lexer": "ipython3",
   "version": "3.6.9"
  }
 },
 "nbformat": 4,
 "nbformat_minor": 2
}
