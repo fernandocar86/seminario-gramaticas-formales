{
 "cells": [
  {
   "cell_type": "markdown",
   "id": "6a3952ad",
   "metadata": {},
   "source": [
    "# Oración D"
   ]
  },
  {
   "cell_type": "markdown",
   "id": "c6975a5a",
   "metadata": {},
   "source": [
    "En primer lugar, importamos las librerías nltk y re:"
   ]
  },
  {
   "cell_type": "code",
   "execution_count": null,
   "id": "d955de9a",
   "metadata": {},
   "outputs": [],
   "source": [
    "import nltk\n",
    "import re"
   ]
  },
  {
   "cell_type": "markdown",
   "id": "db3477b5",
   "metadata": {},
   "source": [
    "## Presentación"
   ]
  },
  {
   "cell_type": "markdown",
   "id": "22256c3a",
   "metadata": {},
   "source": [
    "Para que en esta gramática se pueda parsear la oración en la que \"con \n",
    "sus jugadores\" sea un complemento circunstancial de instrumento, tuvimos que incorporar \n",
    "la regla \"SV -> V Nmascb SP\", que no respeta la Chomsky Normal Form."
   ]
  },
  {
   "cell_type": "code",
   "execution_count": null,
   "id": "e33ea359",
   "metadata": {},
   "outputs": [],
   "source": [
    "# Shift Reduce Parser\n",
    "\n",
    "def sr_parser(oracion, gramatica):                   # Definimos una función llamada sr_parser con dos argumentos.\n",
    "    oracion = oracion.lower()\n",
    "    if oracion.endswith('.'):\n",
    "        oracion = re.sub('\\.',' ',oracion)\n",
    "    else:\n",
    "        oracion = oracion\n",
    "    lista_palabras = oracion.split()\n",
    "    gramatica = nltk.data.load(gramatica)\n",
    "    sr_parser = nltk.ShiftReduceParser(gramatica)    # Instanciamos otra clase de parser\n",
    "    sr_parser.trace(2)\n",
    "    for arbol in sr_parser.parse(lista_palabras):\n",
    "        print(\"- Este es el árbol resultante: \", arbol)\n",
    "        return(arbol)                                # Hacemos un retorno para la función, es decir que la función aquí se va a terminar, lo que nos cortara el loop, pero nos dibujará el árbol"
   ]
  },
  {
   "cell_type": "markdown",
   "id": "e5541296",
   "metadata": {},
   "source": [
    "Luego, corremos el código:"
   ]
  },
  {
   "cell_type": "code",
   "execution_count": null,
   "id": "552fb748",
   "metadata": {
    "scrolled": false
   },
   "outputs": [],
   "source": [
    "print('Escribí una oración:')\n",
    "oracion2 = input()\n",
    "gramatica = 'ORACION-D2.cfg'\n",
    "sr_parser(oracion2, gramatica) "
   ]
  },
  {
   "cell_type": "code",
   "execution_count": null,
   "id": "8a20ec8f",
   "metadata": {},
   "outputs": [],
   "source": []
  },
  {
   "cell_type": "code",
   "execution_count": null,
   "id": "13249cfa",
   "metadata": {},
   "outputs": [],
   "source": []
  }
 ],
 "metadata": {
  "kernelspec": {
   "display_name": "Python 3 (ipykernel)",
   "language": "python",
   "name": "python3"
  },
  "language_info": {
   "codemirror_mode": {
    "name": "ipython",
    "version": 3
   },
   "file_extension": ".py",
   "mimetype": "text/x-python",
   "name": "python",
   "nbconvert_exporter": "python",
   "pygments_lexer": "ipython3",
   "version": "3.8.10"
  }
 },
 "nbformat": 4,
 "nbformat_minor": 5
}
